{
 "cells": [
  {
   "cell_type": "markdown",
   "id": "3880d433",
   "metadata": {},
   "source": [
    "# Letters' Frequencies\n",
    "\n",
    "You are asked to compute the percentages of the letters in the following string.\n",
    "\n",
    "The percentage of a letter can be computed with the formula letter_count/total_letters_count.\n",
    "\n",
    "Example: the string \"Hello world!\" has 10 letters.\n",
    "\n",
    "The 'e' letter appears 1 time -> Frequency of the 'e' letter is 1/10 = 0.1\n",
    "\n",
    "The 'o' letter appears 2 times -> Frequency of the 'o' letter is 2/10 = 0.2\n",
    "\n",
    "The 'l' letter appears 3 times -> Frequency of the 'l' letter is 3/10 = 0.3"
   ]
  },
  {
   "cell_type": "code",
   "execution_count": 1,
   "id": "96557975",
   "metadata": {},
   "outputs": [],
   "source": [
    "mystring = \"PDV KLRBC IOEXQ AEY TLGMF EJVO PDV NSWH ZEU. PDRF PVYP RF S MSQUOSG, XDRBD GVSQF PDSP RP BEQPSRQF SNN 26 NVPPVOF EA PDV VQUNRFD SNMDSIVP. PDRF GSCVF RP RZVSN AEO AOVKLVQBH SQSNHFRF, SF PDV BOHMPSQSNHFP BSQ BEGMSOV PDV AOVKLVQBH EA NVPPVOF RQ PDV BRMDVOPVYP PE PDV CQEXQ AOVKLVQBH EA NVPPVOF RQ PDV VQUNRFD NSQULSUV. AEO VYSGMNV, PDV GEFP BEGGEQ NVPPVO RQ PDV VQUNRFD NSQULSUV RF V. RA PDV GEFP BEGGEQ NVPPVO RQ PDV BRMDVOPVYP RF Y, PDVQ PDV BOHMPSQSNHFP BSQ SFFLGV PDSP Y RF NRCVNH PE IV S FLIFPRPLPREQ AEO V. EPDVO BEGGEQ NVPPVOF RQ PDV VQUNRFD NSQULSUV RQBNLZV P, S, E, R, Q, F, SQZ D. PDV BOHMPSQSNHFP BSQ L V PDRF RQAEOGSPREQ PE GSCV VZLBSPVZ ULVFFVF SIELP PDV EPDVO FLIFPRPLPREQF RQ PDV BRMDVOPVYP. ANSU{QEX_RJV_NVSOQVZ_GH_SIBF}\""
   ]
  },
  {
   "cell_type": "markdown",
   "id": "31658baa",
   "metadata": {},
   "source": [
    "The answer, as always, goes into the string \"flag{}\" with the following format:\n",
    "\n",
    "flag{a=0.xx-b=0.xx-...-z=0.xx}\n",
    "\n",
    "where xx are only 2 the decimal values of the frequency of the corresponding letters.\n",
    "\n",
    "To round a decimal number to 2 digits you can use the function round."
   ]
  },
  {
   "cell_type": "code",
   "execution_count": 3,
   "id": "89139ed2",
   "metadata": {},
   "outputs": [
    {
     "name": "stdout",
     "output_type": "stream",
     "text": [
      "a=0.0223-b=0.0378-c=0.0086-d=0.0619-e=0.0567-f=0.067-g=0.0309-h=0.0223-i=0.012-j=0.0034-k=0.0069-l=0.0309-m=0.0189-n=0.0481-o=0.0447-p=0.1237-q=0.0739-r=0.0653-s=0.0756-t=0.0017-u=0.0241-v=0.1289-w=0.0017-x=0.0069-y=0.0137-z=0.012\n"
     ]
    }
   ],
   "source": [
    "# Some helpers :D, than you<3\n",
    "\n",
    "mystring = mystring.lower() # All letters become lowercase\n",
    "alphabet = 'abcdefghijklmnopqrstuvwxyz'\n",
    "\n",
    "lost=[]\n",
    "lenght=0\n",
    "\n",
    "for i in mystring:\n",
    "    if i in alphabet:\n",
    "        lenght+=1\n",
    "\n",
    "\n",
    "for a in alphabet:\n",
    "    lost.append(str(a)+'='+ str(round(mystring.count(a)/lenght,4)))\n",
    "\n",
    "string=\"-\".join(lost)\n",
    "print(string)"
   ]
  },
  {
   "cell_type": "code",
   "execution_count": null,
   "id": "372de34b",
   "metadata": {},
   "outputs": [],
   "source": []
  }
 ],
 "metadata": {
  "kernelspec": {
   "display_name": "Python 3",
   "language": "python",
   "name": "python3"
  },
  "language_info": {
   "codemirror_mode": {
    "name": "ipython",
    "version": 3
   },
   "file_extension": ".py",
   "mimetype": "text/x-python",
   "name": "python",
   "nbconvert_exporter": "python",
   "pygments_lexer": "ipython3",
   "version": "3.11.5"
  }
 },
 "nbformat": 4,
 "nbformat_minor": 5
}
